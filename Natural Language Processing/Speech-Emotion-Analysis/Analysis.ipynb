{
 "cells": [
  {
   "cell_type": "code",
   "execution_count": 1,
   "id": "offshore-intellectual",
   "metadata": {},
   "outputs": [],
   "source": [
    "%matplotlib inline\n",
    "import pandas as pd\n",
    "import numpy as np\n",
    "import string\n",
    "import re\n",
    "from collections import Counter\n",
    "from nltk.corpus import stopwords"
   ]
  },
  {
   "cell_type": "code",
   "execution_count": 6,
   "id": "scenic-husband",
   "metadata": {},
   "outputs": [],
   "source": [
    "pt1 = pd.read_csv(\"articles1.csv\") \n"
   ]
  },
  {
   "cell_type": "code",
   "execution_count": 7,
   "id": "czech-twelve",
   "metadata": {},
   "outputs": [
    {
     "data": {
      "text/html": [
       "<div>\n",
       "<style scoped>\n",
       "    .dataframe tbody tr th:only-of-type {\n",
       "        vertical-align: middle;\n",
       "    }\n",
       "\n",
       "    .dataframe tbody tr th {\n",
       "        vertical-align: top;\n",
       "    }\n",
       "\n",
       "    .dataframe thead th {\n",
       "        text-align: right;\n",
       "    }\n",
       "</style>\n",
       "<table border=\"1\" class=\"dataframe\">\n",
       "  <thead>\n",
       "    <tr style=\"text-align: right;\">\n",
       "      <th></th>\n",
       "      <th>Unnamed: 0</th>\n",
       "      <th>id</th>\n",
       "      <th>title</th>\n",
       "      <th>publication</th>\n",
       "      <th>author</th>\n",
       "      <th>date</th>\n",
       "      <th>year</th>\n",
       "      <th>month</th>\n",
       "      <th>url</th>\n",
       "      <th>content</th>\n",
       "    </tr>\n",
       "  </thead>\n",
       "  <tbody>\n",
       "    <tr>\n",
       "      <th>0</th>\n",
       "      <td>0</td>\n",
       "      <td>17283</td>\n",
       "      <td>House Republicans Fret About Winning Their Hea...</td>\n",
       "      <td>New York Times</td>\n",
       "      <td>Carl Hulse</td>\n",
       "      <td>2016-12-31</td>\n",
       "      <td>2016.0</td>\n",
       "      <td>12.0</td>\n",
       "      <td>NaN</td>\n",
       "      <td>WASHINGTON  —   Congressional Republicans have...</td>\n",
       "    </tr>\n",
       "    <tr>\n",
       "      <th>1</th>\n",
       "      <td>1</td>\n",
       "      <td>17284</td>\n",
       "      <td>Rift Between Officers and Residents as Killing...</td>\n",
       "      <td>New York Times</td>\n",
       "      <td>Benjamin Mueller and Al Baker</td>\n",
       "      <td>2017-06-19</td>\n",
       "      <td>2017.0</td>\n",
       "      <td>6.0</td>\n",
       "      <td>NaN</td>\n",
       "      <td>After the bullet shells get counted, the blood...</td>\n",
       "    </tr>\n",
       "    <tr>\n",
       "      <th>2</th>\n",
       "      <td>2</td>\n",
       "      <td>17285</td>\n",
       "      <td>Tyrus Wong, ‘Bambi’ Artist Thwarted by Racial ...</td>\n",
       "      <td>New York Times</td>\n",
       "      <td>Margalit Fox</td>\n",
       "      <td>2017-01-06</td>\n",
       "      <td>2017.0</td>\n",
       "      <td>1.0</td>\n",
       "      <td>NaN</td>\n",
       "      <td>When Walt Disney’s “Bambi” opened in 1942, cri...</td>\n",
       "    </tr>\n",
       "    <tr>\n",
       "      <th>3</th>\n",
       "      <td>3</td>\n",
       "      <td>17286</td>\n",
       "      <td>Among Deaths in 2016, a Heavy Toll in Pop Musi...</td>\n",
       "      <td>New York Times</td>\n",
       "      <td>William McDonald</td>\n",
       "      <td>2017-04-10</td>\n",
       "      <td>2017.0</td>\n",
       "      <td>4.0</td>\n",
       "      <td>NaN</td>\n",
       "      <td>Death may be the great equalizer, but it isn’t...</td>\n",
       "    </tr>\n",
       "    <tr>\n",
       "      <th>4</th>\n",
       "      <td>4</td>\n",
       "      <td>17287</td>\n",
       "      <td>Kim Jong-un Says North Korea Is Preparing to T...</td>\n",
       "      <td>New York Times</td>\n",
       "      <td>Choe Sang-Hun</td>\n",
       "      <td>2017-01-02</td>\n",
       "      <td>2017.0</td>\n",
       "      <td>1.0</td>\n",
       "      <td>NaN</td>\n",
       "      <td>SEOUL, South Korea  —   North Korea’s leader, ...</td>\n",
       "    </tr>\n",
       "  </tbody>\n",
       "</table>\n",
       "</div>"
      ],
      "text/plain": [
       "   Unnamed: 0     id                                              title  \\\n",
       "0           0  17283  House Republicans Fret About Winning Their Hea...   \n",
       "1           1  17284  Rift Between Officers and Residents as Killing...   \n",
       "2           2  17285  Tyrus Wong, ‘Bambi’ Artist Thwarted by Racial ...   \n",
       "3           3  17286  Among Deaths in 2016, a Heavy Toll in Pop Musi...   \n",
       "4           4  17287  Kim Jong-un Says North Korea Is Preparing to T...   \n",
       "\n",
       "      publication                         author        date    year  month  \\\n",
       "0  New York Times                     Carl Hulse  2016-12-31  2016.0   12.0   \n",
       "1  New York Times  Benjamin Mueller and Al Baker  2017-06-19  2017.0    6.0   \n",
       "2  New York Times                   Margalit Fox  2017-01-06  2017.0    1.0   \n",
       "3  New York Times               William McDonald  2017-04-10  2017.0    4.0   \n",
       "4  New York Times                  Choe Sang-Hun  2017-01-02  2017.0    1.0   \n",
       "\n",
       "   url                                            content  \n",
       "0  NaN  WASHINGTON  —   Congressional Republicans have...  \n",
       "1  NaN  After the bullet shells get counted, the blood...  \n",
       "2  NaN  When Walt Disney’s “Bambi” opened in 1942, cri...  \n",
       "3  NaN  Death may be the great equalizer, but it isn’t...  \n",
       "4  NaN  SEOUL, South Korea  —   North Korea’s leader, ...  "
      ]
     },
     "execution_count": 7,
     "metadata": {},
     "output_type": "execute_result"
    }
   ],
   "source": [
    "pt1.head()"
   ]
  },
  {
   "cell_type": "code",
   "execution_count": 8,
   "id": "devoted-soldier",
   "metadata": {},
   "outputs": [
    {
     "data": {
      "text/plain": [
       "50000"
      ]
     },
     "execution_count": 8,
     "metadata": {},
     "output_type": "execute_result"
    }
   ],
   "source": [
    "len(pt1)"
   ]
  },
  {
   "cell_type": "code",
   "execution_count": 10,
   "id": "adopted-bookmark",
   "metadata": {},
   "outputs": [],
   "source": [
    "pt2 = pd.read_csv('data/articles2.csv')"
   ]
  },
  {
   "cell_type": "code",
   "execution_count": 11,
   "id": "paperback-plasma",
   "metadata": {},
   "outputs": [
    {
     "data": {
      "text/plain": [
       "42571"
      ]
     },
     "execution_count": 11,
     "metadata": {},
     "output_type": "execute_result"
    }
   ],
   "source": [
    "pt3 = pd.read_csv('data/articles3.csv')\n",
    "len(pt3)"
   ]
  },
  {
   "cell_type": "code",
   "execution_count": 12,
   "id": "possible-spine",
   "metadata": {},
   "outputs": [
    {
     "data": {
      "text/plain": [
       "142570"
      ]
     },
     "execution_count": 12,
     "metadata": {},
     "output_type": "execute_result"
    }
   ],
   "source": [
    "articles = pd.concat([pt1,pt2,pt3])\n",
    "len(articles)"
   ]
  },
  {
   "cell_type": "code",
   "execution_count": 13,
   "id": "interested-groove",
   "metadata": {},
   "outputs": [
    {
     "data": {
      "text/plain": [
       "array(['New York Times', 'Breitbart', 'CNN', 'Business Insider',\n",
       "       'Atlantic', 'Fox News', 'Talking Points Memo', 'Buzzfeed News',\n",
       "       'National Review', 'New York Post', 'Guardian', 'NPR', 'Reuters',\n",
       "       'Vox', 'Washington Post'], dtype=object)"
      ]
     },
     "execution_count": 13,
     "metadata": {},
     "output_type": "execute_result"
    }
   ],
   "source": [
    "articles.publication.unique()"
   ]
  },
  {
   "cell_type": "code",
   "execution_count": 15,
   "id": "pretty-portable",
   "metadata": {},
   "outputs": [
    {
     "name": "stdout",
     "output_type": "stream",
     "text": [
      "2000.0\n"
     ]
    },
    {
     "data": {
      "text/plain": [
       "2017.0"
      ]
     },
     "execution_count": 15,
     "metadata": {},
     "output_type": "execute_result"
    }
   ],
   "source": [
    "print(articles['year'].min())\n",
    "articles['year'].max()"
   ]
  },
  {
   "cell_type": "code",
   "execution_count": 16,
   "id": "logical-virgin",
   "metadata": {},
   "outputs": [
    {
     "data": {
      "text/plain": [
       "2016.0    85405\n",
       "2017.0    50404\n",
       "2015.0     3705\n",
       "2013.0      228\n",
       "2014.0      125\n",
       "2012.0       34\n",
       "2011.0        8\n",
       "2010.0        6\n",
       "2008.0        3\n",
       "2009.0        3\n",
       "2004.0        2\n",
       "2003.0        2\n",
       "2005.0        2\n",
       "2007.0        1\n",
       "2000.0        1\n",
       "Name: year, dtype: int64"
      ]
     },
     "execution_count": 16,
     "metadata": {},
     "output_type": "execute_result"
    }
   ],
   "source": [
    "articles['year'].value_counts()"
   ]
  },
  {
   "cell_type": "code",
   "execution_count": 17,
   "id": "elect-dominican",
   "metadata": {},
   "outputs": [
    {
     "data": {
      "image/png": "[encoded data removed]",
      "text/plain": [
       "<Figure size 864x720 with 1 Axes>"
      ]
     },
     "metadata": {
      "needs_background": "light"
     },
     "output_type": "display_data"
    }
   ],
   "source": [
    "ax = articles['publication'].value_counts().sort_index().plot(kind='bar', fontsize=14, figsize=(12,10))\n",
    "ax.set_title('Article Count\\n', fontsize=20)\n",
    "ax.set_xlabel('Publication', fontsize=18)\n",
    "ax.set_ylabel('Count', fontsize=18);"
   ]
  },
  {
   "cell_type": "code",
   "execution_count": 18,
   "id": "bibliographic-bargain",
   "metadata": {},
   "outputs": [
    {
     "data": {
      "image/png": "[encoded data removed]",
      "text/plain": [
       "<Figure size 864x720 with 1 Axes>"
      ]
     },
     "metadata": {
      "needs_background": "light"
     },
     "output_type": "display_data"
    }
   ],
   "source": [
    "ax = articles['publication'].value_counts().plot(kind='bar', fontsize=14, figsize=(12,10))\n",
    "ax.set_title('Article Count - most to least\\n', fontsize=20)\n",
    "ax.set_xlabel('Publication', fontsize=18)\n",
    "ax.set_ylabel('Count', fontsize=18);"
   ]
  },
  {
   "cell_type": "code",
   "execution_count": 19,
   "id": "liberal-treasury",
   "metadata": {},
   "outputs": [],
   "source": [
    "def clean_text(article):\n",
    "    clean1 = re.sub(r'['+string.punctuation + '’—”'+']', \"\", article.lower())\n",
    "    return re.sub(r'\\W+', ' ', clean1)"
   ]
  },
  {
   "cell_type": "code",
   "execution_count": 20,
   "id": "returning-assessment",
   "metadata": {},
   "outputs": [],
   "source": [
    "articles['tokenized'] = articles['content'].map(lambda x: clean_text(x))"
   ]
  },
  {
   "cell_type": "code",
   "execution_count": 21,
   "id": "twenty-breach",
   "metadata": {},
   "outputs": [
    {
     "data": {
      "text/plain": [
       "0    washington congressional republicans have a ne...\n",
       "1    after the bullet shells get counted the blood ...\n",
       "2    when walt disneys bambi opened in 1942 critics...\n",
       "3    death may be the great equalizer but it isnt n...\n",
       "4    seoul south korea north koreas leader kim said...\n",
       "Name: tokenized, dtype: object"
      ]
     },
     "execution_count": 21,
     "metadata": {},
     "output_type": "execute_result"
    }
   ],
   "source": [
    "articles['tokenized'].head()"
   ]
  },
  {
   "cell_type": "code",
   "execution_count": 22,
   "id": "arabic-minute",
   "metadata": {},
   "outputs": [
    {
     "data": {
      "text/plain": [
       "732.3601248509505"
      ]
     },
     "execution_count": 22,
     "metadata": {},
     "output_type": "execute_result"
    }
   ],
   "source": [
    "articles['num_wds'] = articles['tokenized'].apply(lambda x: len(x.split()))\n",
    "articles['num_wds'].mean()"
   ]
  },
  {
   "cell_type": "code",
   "execution_count": 23,
   "id": "international-roots",
   "metadata": {},
   "outputs": [
    {
     "data": {
      "text/plain": [
       "97"
      ]
     },
     "execution_count": 23,
     "metadata": {},
     "output_type": "execute_result"
    }
   ],
   "source": [
    "len(articles[articles['num_wds']==0])"
   ]
  },
  {
   "cell_type": "code",
   "execution_count": 24,
   "id": "laughing-selling",
   "metadata": {},
   "outputs": [
    {
     "data": {
      "text/plain": [
       "1"
      ]
     },
     "execution_count": 24,
     "metadata": {},
     "output_type": "execute_result"
    }
   ],
   "source": [
    "articles = articles[articles['num_wds']>0]\n",
    "articles['num_wds'].mean()\n",
    "articles['num_wds'].min()"
   ]
  },
  {
   "cell_type": "code",
   "execution_count": 25,
   "id": "russian-backup",
   "metadata": {},
   "outputs": [
    {
     "data": {
      "image/png": "[encoded data removed]",
      "text/plain": [
       "<Figure size 864x720 with 1 Axes>"
      ]
     },
     "metadata": {
      "needs_background": "light"
     },
     "output_type": "display_data"
    }
   ],
   "source": [
    "ax=articles['num_wds'].plot(kind='hist', bins=50, fontsize=14, figsize=(12,10))\n",
    "ax.set_title('Article Length in Words\\n', fontsize=20)\n",
    "ax.set_ylabel('Frequency', fontsize=18)\n",
    "ax.set_xlabel('Number of Words', fontsize=18);"
   ]
  },
  {
   "cell_type": "code",
   "execution_count": 26,
   "id": "relevant-medline",
   "metadata": {},
   "outputs": [
    {
     "data": {
      "text/plain": [
       "{'ac', 'b'}"
      ]
     },
     "execution_count": 26,
     "metadata": {},
     "output_type": "execute_result"
    }
   ],
   "source": [
    "set('b ac b'.split())"
   ]
  },
  {
   "cell_type": "code",
   "execution_count": 1,
   "id": "talented-drawing",
   "metadata": {},
   "outputs": [
    {
     "ename": "NameError",
     "evalue": "name 'articles' is not defined",
     "output_type": "error",
     "traceback": [
      "\u001b[1;31m---------------------------------------------------------------------------\u001b[0m",
      "\u001b[1;31mNameError\u001b[0m                                 Traceback (most recent call last)",
      "\u001b[1;32m<ipython-input-1-68e66e6505c2>\u001b[0m in \u001b[0;36m<module>\u001b[1;34m\u001b[0m\n\u001b[1;32m----> 1\u001b[1;33m \u001b[0marticles\u001b[0m\u001b[1;33m[\u001b[0m\u001b[1;34m'uniq_wds'\u001b[0m\u001b[1;33m]\u001b[0m \u001b[1;33m=\u001b[0m \u001b[0marticles\u001b[0m\u001b[1;33m[\u001b[0m\u001b[1;34m'tokenized'\u001b[0m\u001b[1;33m]\u001b[0m\u001b[1;33m.\u001b[0m\u001b[0mstr\u001b[0m\u001b[1;33m.\u001b[0m\u001b[0msplit\u001b[0m\u001b[1;33m(\u001b[0m\u001b[1;33m)\u001b[0m\u001b[1;33m.\u001b[0m\u001b[0mapply\u001b[0m\u001b[1;33m(\u001b[0m\u001b[1;32mlambda\u001b[0m \u001b[0mx\u001b[0m\u001b[1;33m:\u001b[0m \u001b[0mlen\u001b[0m\u001b[1;33m(\u001b[0m\u001b[0mset\u001b[0m\u001b[1;33m(\u001b[0m\u001b[0mx\u001b[0m\u001b[1;33m)\u001b[0m\u001b[1;33m)\u001b[0m\u001b[1;33m)\u001b[0m\u001b[1;33m\u001b[0m\u001b[1;33m\u001b[0m\u001b[0m\n\u001b[0m\u001b[0;32m      2\u001b[0m \u001b[1;31m#articles['uniq_wds'].head()\u001b[0m\u001b[1;33m\u001b[0m\u001b[1;33m\u001b[0m\u001b[1;33m\u001b[0m\u001b[0m\n",
      "\u001b[1;31mNameError\u001b[0m: name 'articles' is not defined"
     ]
    }
   ],
   "source": [
    "articles['uniq_wds'] = articles['tokenized'].str.split().apply(lambda x: len(set(x)))\n",
    "#articles['uniq_wds'].head()"
   ]
  },
  {
   "cell_type": "code",
   "execution_count": null,
   "id": "compound-spouse",
   "metadata": {},
   "outputs": [],
   "source": [
    "articles['uniq_wds'].mean()\n",
    "articles['uniq_wds'].min()\n",
    "articles['uniq_wds'].max()"
   ]
  },
  {
   "cell_type": "code",
   "execution_count": null,
   "id": "consolidated-communication",
   "metadata": {},
   "outputs": [],
   "source": [
    "ax=articles['uniq_wds'].plot(kind='hist', bins=50, fontsize=14, figsize=(12,10))\n",
    "ax.set_title('Unique Words Per Article\\n', fontsize=20)\n",
    "ax.set_ylabel('Frequency', fontsize=18)\n",
    "ax.set_xlabel('Number of Unique Words', fontsize=18);"
   ]
  },
  {
   "cell_type": "code",
   "execution_count": null,
   "id": "aggregate-reproduction",
   "metadata": {},
   "outputs": [],
   "source": [
    "art_grps = articles.groupby('publication')\n",
    "\n",
    "ax=art_grps['title'].aggregate(len).plot(kind='bar', fontsize=14, figsize=(12,10))\n",
    "ax.set_title('Articles per Publication (repeated)\\n', fontsize=20)\n",
    "ax.set_ylabel('Number of Articles', fontsize=18)\n",
    "ax.set_xlabel('Publication', fontsize=18);"
   ]
  },
  {
   "cell_type": "code",
   "execution_count": null,
   "id": "amended-vacuum",
   "metadata": {},
   "outputs": [],
   "source": [
    "ax=art_grps['num_wds'].aggregate(np.mean).plot(kind='bar', fontsize=14, figsize=(12,10))\n",
    "ax.set_title('Mean Number of Words per Article\\n', fontsize=20)\n",
    "ax.set_ylabel('Mean Number of Words', fontsize=18)\n",
    "ax.set_xlabel('Publication', fontsize=18);"
   ]
  },
  {
   "cell_type": "code",
   "execution_count": null,
   "id": "shared-edition",
   "metadata": {},
   "outputs": [],
   "source": [
    "ax=art_grps['uniq_wds'].aggregate(np.mean).plot(kind='bar', fontsize=14, figsize=(12,10))\n",
    "ax.set_title('Mean Number of Unique Words per Article\\n', fontsize=20)\n",
    "ax.set_ylabel('Mean Number of Unique Words', fontsize=18)\n",
    "ax.set_xlabel('Publication', fontsize=18);"
   ]
  },
  {
   "cell_type": "code",
   "execution_count": null,
   "id": "further-penguin",
   "metadata": {},
   "outputs": [],
   "source": [
    "wd_counts = Counter()\n",
    "for i, row in articles.iterrows():\n",
    "    wd_counts.update(row['tokenized'].split())"
   ]
  },
  {
   "cell_type": "code",
   "execution_count": null,
   "id": "joint-painting",
   "metadata": {},
   "outputs": [],
   "source": [
    "stopwords.words('english')"
   ]
  },
  {
   "cell_type": "code",
   "execution_count": null,
   "id": "acquired-suicide",
   "metadata": {},
   "outputs": [],
   "source": [
    "for sw in stopwords.words('english'):\n",
    "    del wd_counts[sw]"
   ]
  },
  {
   "cell_type": "code",
   "execution_count": null,
   "id": "sticky-bible",
   "metadata": {},
   "outputs": [],
   "source": [
    "wd_counts.most_common(20)"
   ]
  },
  {
   "cell_type": "code",
   "execution_count": null,
   "id": "female-christmas",
   "metadata": {},
   "outputs": [],
   "source": [
    "def find_cc_wds(content, cc_wds=['climate change','global warming', 'extreme weather', 'greenhouse gas'\n",
    "                                 'clean energy', 'clean tech', 'renewable energy']\n",
    "):\n",
    "    found = False\n",
    "    for w in cc_wds:\n",
    "        if w in content:\n",
    "            found = True\n",
    "            break\n",
    "\n",
    "    if not found:\n",
    "        disj = re.compile(r'(chang\\w+\\W+(?:\\w+\\W+){1,5}?climate) | (climate\\W+(?:\\w+\\W+){1,5}?chang)')\n",
    "        if disj.match(content):\n",
    "            found = True\n",
    "    return found"
   ]
  },
  {
   "cell_type": "code",
   "execution_count": null,
   "id": "victorian-tenant",
   "metadata": {},
   "outputs": [],
   "source": [
    "disj = re.compile(r'(chang\\w+\\W+(?:\\w+\\W+){1,5}?climate)|(climate\\W+(?:\\w+\\W+){1,5}?chang)')"
   ]
  },
  {
   "cell_type": "code",
   "execution_count": null,
   "id": "congressional-montreal",
   "metadata": {},
   "outputs": [],
   "source": [
    "disj.match('climate is changing')"
   ]
  },
  {
   "cell_type": "code",
   "execution_count": null,
   "id": "sorted-resort",
   "metadata": {},
   "outputs": [],
   "source": [
    "disj.match('change in extreme  climate')"
   ]
  },
  {
   "cell_type": "code",
   "execution_count": null,
   "id": "experimental-development",
   "metadata": {},
   "outputs": [],
   "source": [
    "disj.match('nothing changing here except the weather')"
   ]
  },
  {
   "cell_type": "code",
   "execution_count": null,
   "id": "corrected-sleeve",
   "metadata": {},
   "outputs": [],
   "source": [
    "articles['cc_wds'] = articles['tokenized'].apply(find_cc_wds)\n",
    "articles['cc_wds'].head()"
   ]
  },
  {
   "cell_type": "code",
   "execution_count": null,
   "id": "pressed-costa",
   "metadata": {},
   "outputs": [],
   "source": [
    "articles['cc_wds'].sum() / len(articles)"
   ]
  },
  {
   "cell_type": "code",
   "execution_count": null,
   "id": "modular-sailing",
   "metadata": {},
   "outputs": [],
   "source": [
    "art_grps['cc_wds'].sum()"
   ]
  },
  {
   "cell_type": "code",
   "execution_count": null,
   "id": "periodic-october",
   "metadata": {},
   "outputs": [],
   "source": [
    "art_grps.count()"
   ]
  },
  {
   "cell_type": "code",
   "execution_count": null,
   "id": "electrical-exposure",
   "metadata": {},
   "outputs": [],
   "source": [
    "proportions = art_grps['cc_wds'].sum() / art_grps['cc_wds'].count()\n",
    "proportions.sort_values(ascending=True)\n",
    "proportions"
   ]
  },
  {
   "cell_type": "code",
   "execution_count": null,
   "id": "fiscal-average",
   "metadata": {},
   "outputs": [],
   "source": [
    "ax=proportions.plot(kind='bar', fontsize=14, figsize=(12,10))\n",
    "ax.set_title('Mean Proportion of Climate Change Related Articles per Publication\\n', fontsize=20)\n",
    "ax.set_ylabel('Mean Proportion', fontsize=18)\n",
    "ax.set_xlabel('Publication', fontsize=18);"
   ]
  },
  {
   "cell_type": "code",
   "execution_count": null,
   "id": "quantitative-missouri",
   "metadata": {},
   "outputs": [],
   "source": [
    "ax=proportions.sort_values(ascending=False).plot(kind='bar', fontsize=14, figsize=(12,10))\n",
    "ax.set_title('Mean Proportion of Climate Change Related Articles per Publication (Sorted)\\n', fontsize=20)\n",
    "ax.set_ylabel('Mean Proportion', fontsize=18)\n",
    "ax.set_xlabel('Publication', fontsize=18);"
   ]
  },
  {
   "cell_type": "code",
   "execution_count": null,
   "id": "conceptual-publication",
   "metadata": {},
   "outputs": [],
   "source": [
    "bias_assigns = {'Atlantic': 'left', 'Breitbart': 'right', 'Business Insider': 'left', 'Buzzfeed News': 'left', 'CNN': 'left', 'Fox News': 'right',\n",
    "                'Guardian': 'left', 'National Review': 'right', 'New York Post': 'right', 'New York Times': 'left',\n",
    "                'NPR': 'left', 'Reuters': 'center', 'Talking Points Memo': 'left', 'Washington Post': 'left', 'Vox': 'left'}\n",
    "articles['bias'] = articles['publication'].apply(lambda x: bias_assigns[x])\n",
    "articles.head()"
   ]
  },
  {
   "cell_type": "code",
   "execution_count": null,
   "id": "fancy-strip",
   "metadata": {},
   "outputs": [],
   "source": [
    "bias_groups = articles.groupby('bias')\n",
    "bias_proportions = bias_groups['cc_wds'].sum() / bias_groups['cc_wds'].count()"
   ]
  },
  {
   "cell_type": "code",
   "execution_count": null,
   "id": "compact-router",
   "metadata": {},
   "outputs": [],
   "source": [
    "bias_groups['cc_wds'].count()"
   ]
  },
  {
   "cell_type": "code",
   "execution_count": null,
   "id": "restricted-unknown",
   "metadata": {},
   "outputs": [],
   "source": [
    "ax=bias_proportions.plot(kind='bar', fontsize=14, figsize=(12,10))\n",
    "ax.set_title('Proportion of climate change articles by Political Bias\\n', fontsize=20)\n",
    "ax.set_xlabel('Bias', fontsize=18)\n",
    "ax.set_ylabel('Proportion', fontsize=18);"
   ]
  }
 ],
 "metadata": {
  "kernelspec": {
   "display_name": "Python 3",
   "language": "python",
   "name": "python3"
  },
  "language_info": {
   "codemirror_mode": {
    "name": "ipython",
    "version": 3
   },
   "file_extension": ".py",
   "mimetype": "text/x-python",
   "name": "python",
   "nbconvert_exporter": "python",
   "pygments_lexer": "ipython3",
   "version": "3.8.5"
  }
 },
 "nbformat": 4,
 "nbformat_minor": 5
}
